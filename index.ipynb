{
 "cells": [
  {
   "cell_type": "markdown",
   "metadata": {},
   "source": [
    "# MongoDB - Lab\n",
    "\n",
    "## Introduction\n",
    "\n",
    "In this lesson, we'll get some hands-on experience with MongoDB!\n",
    "\n",
    "## Objectives\n",
    "You will be able to:\n",
    "-  Use MongoDB, a popular NoSQL database\n",
    "-  Create, Read, Update, and Delete Information in MongoDB\n",
    "\n",
    "## Getting Started\n",
    "\n",
    "To begin this lab, make sure that you start up the mongoDB server in your terminal first!\n",
    "\n",
    "\n",
    "## Connecting to the MongoDB Database\n",
    "\n",
    "In the cell below, import the appropriate library and connect to the mongoDB server. Create a new database called `'lab_db'`."
   ]
  },
  {
   "cell_type": "code",
   "execution_count": 56,
   "metadata": {},
   "outputs": [],
   "source": [
    "import pymongo\n",
    "myclient1 = pymongo.MongoClient(\"mongodb://127.0.0.1:27017/\")\n",
    "mydb = myclient['lab1_db']"
   ]
  },
  {
   "cell_type": "markdown",
   "metadata": {},
   "source": [
    "## Creating a Collection\n",
    "\n",
    "Now, create a collection called `'lab_collection'` inside `'lab_db'`."
   ]
  },
  {
   "cell_type": "code",
   "execution_count": 57,
   "metadata": {},
   "outputs": [],
   "source": [
    "mycollection1 = mydb['lab_collection']"
   ]
  },
  {
   "cell_type": "markdown",
   "metadata": {},
   "source": [
    "## Adding Some Data\n",
    "\n",
    "Now, we're going to add some example records into our database. In the cells below, create dictionary representations of the following customer records:\n",
    "\n",
    "\n",
    "|     Name     |            Email           |  Mailing_Address  | Balance |                         Notes                         |\n",
    "|:------------:|:--------------------------:|:-----------------:|:-------:|:-----------------------------------------------------:|\n",
    "|  John Smith  |    j.smith@thesmiths.com   | 123 mulberry lane |   0.0   |    Called technical support, issue not yet resolved   |\n",
    "|  Jane Smith  |  jane_smith@thesmiths.com  |         Null          |  25.00  |                   Null                                    |\n",
    "|  Adam Enbar  | adam@theflatironschool.com |    11 Broadway    |  14.99  |           Set up on recurring billing cycle           |\n",
    "| Avi Flombaum |  avi@theflatironschool.com |    11 Broadway    |   0.0   |                   Null                                    |\n",
    "|   Steven S.  |     steven.s@gmail.net     |         Null          |  -20.23 | Refunded for overpayment due to price match guarantee |\n",
    "\n",
    "\n",
    "Your first challenge is to take all of the data in the table above and create the corresponding documents and add then to our mongo database. Note that fields that contain 'Null' should not be included in the document (recall that since mongo is schema-less, each document can be different). \n",
    "\n",
    "Create the documents from the table listed above, and then use `insert_many()` to insert them into the collection."
   ]
  },
  {
   "cell_type": "code",
   "execution_count": 58,
   "metadata": {},
   "outputs": [],
   "source": [
    "customer_1 ={'name': 'John Smith', 'email': 'j.smith@thesmiths.com',  'address': '123 mulberry lane', 'balance': 0.0, 'notes': 'Called technical support, issue not yet resolved'}\n",
    "customer_2 ={'name': 'Jane Smith', 'email': 'jane_smith@thesmiths.com',   'balance': 25, }\n",
    "customer_3 ={'name': 'Adam Enba', 'email': 'adam@theflatironschool.com',  'address': '11 Broadway', 'balance': 14.99, 'notes': 'Set up on recurring billing cycle'}\n",
    "customer_4 = {'name': 'Avi Flombaum', 'email': 'avi@theflatironschool.com',  'address': '11 Broadway', 'balance': 0.0}\n",
    "customer_5 ={'name': 'Steven S.', 'email': 'steven.s@gmail.net\t',   'balance': -20.23, 'notes': 'Refunded for overpayment due to price match guarantee'}\n",
    "all_records =[customer_1, customer_2, customer_3, customer_4, customer_5]\n",
    "\n",
    "insertion_results = mycollection1.insert_many(all_records)"
   ]
  },
  {
   "cell_type": "markdown",
   "metadata": {},
   "source": [
    "Now, access the appropriate attribute from the results object returned from the insertion to see the unique IDs for each record inserted, so that we can confirm each were inserted correctly. "
   ]
  },
  {
   "cell_type": "code",
   "execution_count": 59,
   "metadata": {},
   "outputs": [
    {
     "data": {
      "text/plain": [
       "[ObjectId('5d34a26d632fab910a5ad146'),\n",
       " ObjectId('5d34a26d632fab910a5ad147'),\n",
       " ObjectId('5d34a26d632fab910a5ad148'),\n",
       " ObjectId('5d34a26d632fab910a5ad149'),\n",
       " ObjectId('5d34a26d632fab910a5ad14a')]"
      ]
     },
     "execution_count": 59,
     "metadata": {},
     "output_type": "execute_result"
    }
   ],
   "source": [
    "insertion_results.inserted_ids\n",
    "\n",
    "\n"
   ]
  },
  {
   "cell_type": "markdown",
   "metadata": {},
   "source": [
    "## Querying and Filtering\n",
    "\n",
    "In the cell below, return the name and email address for every customer record. Then, print every item from the query to show that it worked correctly. "
   ]
  },
  {
   "cell_type": "code",
   "execution_count": 60,
   "metadata": {},
   "outputs": [
    {
     "name": "stdout",
     "output_type": "stream",
     "text": [
      "{'_id': ObjectId('5d34a26d632fab910a5ad146'), 'name': 'John Smith', 'email': 'j.smith@thesmiths.com'}\n",
      "{'_id': ObjectId('5d34a26d632fab910a5ad147'), 'name': 'Jane Smith', 'email': 'jane_smith@thesmiths.com'}\n",
      "{'_id': ObjectId('5d34a26d632fab910a5ad148'), 'name': 'Adam Enba', 'email': 'adam@theflatironschool.com'}\n",
      "{'_id': ObjectId('5d34a26d632fab910a5ad149'), 'name': 'Avi Flombaum', 'email': 'avi@theflatironschool.com'}\n",
      "{'_id': ObjectId('5d34a26d632fab910a5ad14a'), 'name': 'Steven S.', 'email': 'steven.s@gmail.net\\t'}\n"
     ]
    }
   ],
   "source": [
    "query_1 = mycollection1.find({}, { 'name': 1, 'email': 1})\n",
    "for x in query_1:\n",
    "    print(x)\n"
   ]
  },
  {
   "cell_type": "markdown",
   "metadata": {},
   "source": [
    "Great! Now, let's write a query that gets an individual record based on a stored key-value pair a document contains. \n",
    "\n",
    "In the cell below, write a query to get the record for John Smith by using his name. Then, print the results of the query to demonstrate that it worked correctly.  "
   ]
  },
  {
   "cell_type": "code",
   "execution_count": 61,
   "metadata": {},
   "outputs": [
    {
     "name": "stdout",
     "output_type": "stream",
     "text": [
      "{'_id': ObjectId('5d34a26d632fab910a5ad146'), 'name': 'John Smith', 'email': 'j.smith@thesmiths.com', 'address': '123 mulberry lane', 'balance': 0.0, 'notes': 'Called technical support, issue not yet resolved'}\n"
     ]
    }
   ],
   "source": [
    "query_2 = mycollection1.find( { 'name':'John Smith'})\n",
    "for x in query_2:\n",
    "    print(x)\n"
   ]
  },
  {
   "cell_type": "markdown",
   "metadata": {},
   "source": [
    "Great! Now, write a query to get the names, email addresses, and balances for customers that have a balance greater than 0. Use a modifier to do this. \n",
    "\n",
    "**_HINT_**: In the query below, you'll be passing in two separate dictionaries. The first one defines the logic of the query, while the second tells which fields we want returned. "
   ]
  },
  {
   "cell_type": "code",
   "execution_count": 62,
   "metadata": {},
   "outputs": [
    {
     "name": "stdout",
     "output_type": "stream",
     "text": [
      "{'_id': ObjectId('5d34a26d632fab910a5ad147'), 'name': 'Jane Smith', 'email': 'jane_smith@thesmiths.com', 'balance': 25}\n",
      "{'_id': ObjectId('5d34a26d632fab910a5ad148'), 'name': 'Adam Enba', 'email': 'adam@theflatironschool.com', 'balance': 14.99}\n"
     ]
    }
   ],
   "source": [
    "query_3 = mycollection1.find({\"balance\": {\"$gt\": 0}}, {'name':1, 'email':1, 'balance':1})\n",
    "for x in query_3:\n",
    "    print(x)"
   ]
  },
  {
   "cell_type": "markdown",
   "metadata": {},
   "source": [
    "## Updating a Record\n",
    "\n",
    "Now, let's update some records. In the cell below. set the mailing address for Steven S. to `'367 55th St., apt 2A'`."
   ]
  },
  {
   "cell_type": "code",
   "execution_count": 63,
   "metadata": {},
   "outputs": [
    {
     "name": "stdout",
     "output_type": "stream",
     "text": [
      "{'_id': ObjectId('5d34a26d632fab910a5ad14a'), 'name': 'Steven S.', 'email': 'steven.s@gmail.net\\t', 'balance': -20.23, 'notes': 'Refunded for overpayment due to price match guarantee', 'address': '367 55th St., apt 2A'}\n"
     ]
    }
   ],
   "source": [
    "record_to_update = {'name':'Steven S.'}\n",
    "update_1 = {'$set': {'address': '367 55th St., apt 2A'}}\n",
    "\n",
    "\n",
    "mycollection1.update_one(record_to_update, update_1)\n",
    "\n",
    "query_4 = mycollection1.find({'name':'Steven S.'})\n",
    "for item in query_4:\n",
    "    print(item)"
   ]
  },
  {
   "cell_type": "markdown",
   "metadata": {},
   "source": [
    "Now, write a query to check that the update worked for this document in the cell below. "
   ]
  },
  {
   "cell_type": "code",
   "execution_count": 64,
   "metadata": {},
   "outputs": [
    {
     "name": "stdout",
     "output_type": "stream",
     "text": [
      "{'_id': ObjectId('5d34a176632fab910a5ad134'), 'name': 'Steven S.', 'email': 'steven.s@gmail.net\\t', 'balance': -20.23, 'notes': 'Refunded for overpayment due to price match guarantee', 'address': '367 55th St., apt 2A', 'test': 'dfafa', 'birthday': '08/30/1991'}\n",
      "{'_id': ObjectId('5d34a19c632fab910a5ad139'), 'name': 'Steven S.', 'email': 'steven.s@gmail.net\\t', 'balance': -20.23, 'notes': 'Refunded for overpayment due to price match guarantee'}\n",
      "{'_id': ObjectId('5d34a1fe632fab910a5ad13e'), 'name': 'Steven S.', 'email': 'steven.s@gmail.net\\t', 'balance': -20.23, 'notes': 'Refunded for overpayment due to price match guarantee'}\n",
      "{'_id': ObjectId('5d34a248632fab910a5ad144'), 'name': 'Steven S.', 'email': 'steven.s@gmail.net\\t', 'balance': -20.23, 'notes': 'Refunded for overpayment due to price match guarantee'}\n"
     ]
    }
   ],
   "source": [
    "\n",
    "record_to_update1 = {'name':'Steven S.'}\n",
    "update_2 = {'$set':{'test': 'dfafa'}}\n",
    "\n",
    "\n",
    "mycollection.update_one(record_to_update1, update_2)\n",
    "\n",
    "query_5= mycollection.find({'name':'Steven S.'})\n",
    "for item in query_5:\n",
    "    print(item)"
   ]
  },
  {
   "cell_type": "markdown",
   "metadata": {},
   "source": [
    "Now, let's assume that we want to add birthdays for each customer record. Consider the following table:\n",
    "\n",
    "|     Name     |  Birthday  |\n",
    "|:------------:|:----------:|\n",
    "|  John Smith  | 02/20/1986 |\n",
    "|  Jane Smith  | 07/07/1983 |\n",
    "|  Adam Enbar  | 12/02/1982 |\n",
    "| Avi Flombaum | 04/17/1983 |\n",
    "|   Steven S.  | 08/30/1991 |\n",
    "\n",
    "We want to add birthdays for each person, but we want to do so in a way where we don't have to do the same repetitive task over and over again. This seems like a good opportunity to write a function to handle some of the logic for us!\n",
    "\n",
    "In the cell below:\n",
    "\n",
    "* Store the names in the `names_list` variable as a list.\n",
    "* Store the birthdays in the `birthdays_list` variable as a list.\n",
    "* Write a function that takes in the two different lists, and updates each record by adding in the appropriate key-value pair containing that user's birthday.\n",
    "\n",
    "**_Hint:_** There are several ways that you could write this, depending on whether you want to use the `update_one()` method or the `update_many()` method. See if you can figure out both approaches!"
   ]
  },
  {
   "cell_type": "code",
   "execution_count": 67,
   "metadata": {},
   "outputs": [],
   "source": [
    "names_list = ['John Smith','Jane Smith','Adam Enbar','Avi Flombaum','Steven S.']\n",
    "birthdays_list = ['02/20/1986','07/07/1983','12/02/1982', '04/17/1983', '08/30/1991']\n",
    "\n",
    "\n",
    "def update_birthdays(names, birthdays):\n",
    "        for  i,name in enumerate(names) :\n",
    "            birthday=birthdays[i]\n",
    "            record_to_update = {'name':name}\n",
    "            update_1 = {'$set': {'birthday': birthday}}\n",
    "            mycollection.update_one(record_to_update, update_1)\n",
    "           \n",
    "\n",
    "\n"
   ]
  },
  {
   "cell_type": "markdown",
   "metadata": {},
   "source": [
    "Now, write a query to check your work and see that the birthdays were added correctly."
   ]
  },
  {
   "cell_type": "code",
   "execution_count": 66,
   "metadata": {},
   "outputs": [
    {
     "name": "stdout",
     "output_type": "stream",
     "text": [
      "{'_id': ObjectId('5d34a176632fab910a5ad131'), 'name': 'Jane Smith', 'email': 'jane_smith@thesmiths.com', 'balance': 25, 'birthday': '07/07/1983'}\n",
      "{'_id': ObjectId('5d34a176632fab910a5ad132'), 'name': 'Adam Enba', 'email': 'adam@theflatironschool.com', 'address': '11 Broadway', 'balance': 14.99, 'notes': 'Set up on recurring billing cycle'}\n",
      "{'_id': ObjectId('5d34a176632fab910a5ad133'), 'name': 'Avi Flombaum', 'email': 'avi@theflatironschool.com', 'address': '11 Broadway', 'balance': 0.0, 'birthday': '04/17/1983'}\n",
      "{'_id': ObjectId('5d34a176632fab910a5ad134'), 'name': 'Steven S.', 'email': 'steven.s@gmail.net\\t', 'balance': -20.23, 'notes': 'Refunded for overpayment due to price match guarantee', 'address': '367 55th St., apt 2A', 'test': 'dfafa', 'birthday': '08/30/1991'}\n",
      "{'_id': ObjectId('5d34a19c632fab910a5ad135'), 'name': 'John Smith', 'email': 'j.smith@thesmiths.com', 'address': '123 mulberry lane', 'balance': 0.0, 'notes': 'Called technical support, issue not yet resolved', 'birthday': '02/20/1986'}\n",
      "{'_id': ObjectId('5d34a19c632fab910a5ad136'), 'name': 'Jane Smith', 'email': 'jane_smith@thesmiths.com', 'balance': 25}\n",
      "{'_id': ObjectId('5d34a19c632fab910a5ad137'), 'name': 'Adam Enba', 'email': 'adam@theflatironschool.com', 'address': '11 Broadway', 'balance': 14.99, 'notes': 'Set up on recurring billing cycle'}\n",
      "{'_id': ObjectId('5d34a19c632fab910a5ad138'), 'name': 'Avi Flombaum', 'email': 'avi@theflatironschool.com', 'address': '11 Broadway', 'balance': 0.0}\n",
      "{'_id': ObjectId('5d34a19c632fab910a5ad139'), 'name': 'Steven S.', 'email': 'steven.s@gmail.net\\t', 'balance': -20.23, 'notes': 'Refunded for overpayment due to price match guarantee'}\n",
      "{'_id': ObjectId('5d34a1fe632fab910a5ad13a'), 'name': 'John Smith', 'email': 'j.smith@thesmiths.com', 'address': '123 mulberry lane', 'balance': 0.0, 'notes': 'Called technical support, issue not yet resolved'}\n",
      "{'_id': ObjectId('5d34a1fe632fab910a5ad13b'), 'name': 'Jane Smith', 'email': 'jane_smith@thesmiths.com', 'balance': 25}\n",
      "{'_id': ObjectId('5d34a1fe632fab910a5ad13c'), 'name': 'Adam Enba', 'email': 'adam@theflatironschool.com', 'address': '11 Broadway', 'balance': 14.99, 'notes': 'Set up on recurring billing cycle'}\n",
      "{'_id': ObjectId('5d34a1fe632fab910a5ad13d'), 'name': 'Avi Flombaum', 'email': 'avi@theflatironschool.com', 'address': '11 Broadway', 'balance': 0.0}\n",
      "{'_id': ObjectId('5d34a1fe632fab910a5ad13e'), 'name': 'Steven S.', 'email': 'steven.s@gmail.net\\t', 'balance': -20.23, 'notes': 'Refunded for overpayment due to price match guarantee'}\n",
      "{'_id': ObjectId('5d34a248632fab910a5ad140'), 'name': 'John Smith', 'email': 'j.smith@thesmiths.com', 'address': '123 mulberry lane', 'balance': 0.0, 'notes': 'Called technical support, issue not yet resolved'}\n",
      "{'_id': ObjectId('5d34a248632fab910a5ad141'), 'name': 'Jane Smith', 'email': 'jane_smith@thesmiths.com', 'balance': 25}\n",
      "{'_id': ObjectId('5d34a248632fab910a5ad142'), 'name': 'Adam Enba', 'email': 'adam@theflatironschool.com', 'address': '11 Broadway', 'balance': 14.99, 'notes': 'Set up on recurring billing cycle'}\n",
      "{'_id': ObjectId('5d34a248632fab910a5ad143'), 'name': 'Avi Flombaum', 'email': 'avi@theflatironschool.com', 'address': '11 Broadway', 'balance': 0.0}\n",
      "{'_id': ObjectId('5d34a248632fab910a5ad144'), 'name': 'Steven S.', 'email': 'steven.s@gmail.net\\t', 'balance': -20.23, 'notes': 'Refunded for overpayment due to price match guarantee'}\n"
     ]
    }
   ],
   "source": [
    "update_birthdays(names_list, birthdays_list)\n",
    "query_6 = mycollection.find({})\n",
    "for item in query_6:\n",
    "    print(item)\n"
   ]
  },
  {
   "cell_type": "code",
   "execution_count": null,
   "metadata": {},
   "outputs": [],
   "source": []
  },
  {
   "cell_type": "markdown",
   "metadata": {},
   "source": [
    "Great! It looks like the birthdays have been successfully added to every record correctly!\n",
    "\n",
    "## Summary\n",
    "\n",
    "In this lesson, we got some hands-on practice working with MongoDB!"
   ]
  },
  {
   "cell_type": "code",
   "execution_count": null,
   "metadata": {},
   "outputs": [],
   "source": []
  },
  {
   "cell_type": "code",
   "execution_count": null,
   "metadata": {},
   "outputs": [],
   "source": []
  }
 ],
 "metadata": {
  "kernelspec": {
   "display_name": "Python 3",
   "language": "python",
   "name": "python3"
  },
  "language_info": {
   "codemirror_mode": {
    "name": "ipython",
    "version": 3
   },
   "file_extension": ".py",
   "mimetype": "text/x-python",
   "name": "python",
   "nbconvert_exporter": "python",
   "pygments_lexer": "ipython3",
   "version": "3.7.1"
  }
 },
 "nbformat": 4,
 "nbformat_minor": 2
}
